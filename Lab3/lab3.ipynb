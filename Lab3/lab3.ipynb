{
 "cells": [
  {
   "cell_type": "markdown",
   "metadata": {},
   "source": [
    "### Lab 3 - Prior and Posterior predictive distributions"
   ]
  },
  {
   "cell_type": "code",
   "execution_count": 1,
   "metadata": {},
   "outputs": [],
   "source": [
    "from cmdstanpy import CmdStanModel\n",
    "import pandas as pd\n",
    "import arviz as az \n",
    "import numpy as np\n",
    "import matplotlib.pyplot as plt\n",
    "import scipy.stats as stats"
   ]
  },
  {
   "cell_type": "markdown",
   "metadata": {},
   "source": [
    "## Modeling prior predictive distribution\n",
    "\n",
    "Because prior predictive distribution does not use data it can often be realized just using random number generators. \n",
    "\n",
    "1. Create a Stan model, which will consist of only ```generated quantites``` block.\n",
    "2. In this block define integer variable ```N``` for number of trials equal to 50, integer variable ```y``` for number of successes and real ```p``` for probability of allergic reaction. Remember to use necessary constraints.\n",
    "3. Assign a prior for  ```p``` (appropriate random number generator) that will represent our knowledge about typical cases. You can do it either analytically or by using simulations. \n",
    "4. Sample from binomial distribution, that will use ```N``` and sampled ```p``` to generate number of allergic reactions ```y```.\n",
    "5. Generate 1000 samples (pair of ```p``` an ```y```) by calling appropriate method in ```cmdstanpy```. Remeber to set ```fixed_param=True```.\n",
    "6. Compute ratio of allergic reactions for each sample and create a histogram.\n",
    "7. Verify if mean of the ratio is consistent with prior knowledge, otherwise modify prior parameters. Describe your reasoning in the report. "
   ]
  },
  {
   "cell_type": "code",
   "execution_count": 6,
   "metadata": {},
   "outputs": [
    {
     "name": "stderr",
     "output_type": "stream",
     "text": [
      "09:15:20 - cmdstanpy - INFO - CmdStan start processing\n"
     ]
    },
    {
     "data": {
      "application/vnd.jupyter.widget-view+json": {
       "model_id": "6024a52d81dc45f8bf7f3769fbe6b5f8",
       "version_major": 2,
       "version_minor": 0
      },
      "text/plain": [
       "chain 1 |          | 00:00 Status"
      ]
     },
     "metadata": {},
     "output_type": "display_data"
    },
    {
     "name": "stdout",
     "output_type": "stream",
     "text": [
      "                                                                                "
     ]
    },
    {
     "name": "stderr",
     "output_type": "stream",
     "text": [
      "09:15:20 - cmdstanpy - INFO - CmdStan done processing.\n"
     ]
    },
    {
     "name": "stdout",
     "output_type": "stream",
     "text": [
      "\n"
     ]
    },
    {
     "data": {
      "text/html": [
       "<div>\n",
       "<style scoped>\n",
       "    .dataframe tbody tr th:only-of-type {\n",
       "        vertical-align: middle;\n",
       "    }\n",
       "\n",
       "    .dataframe tbody tr th {\n",
       "        vertical-align: top;\n",
       "    }\n",
       "\n",
       "    .dataframe thead th {\n",
       "        text-align: right;\n",
       "    }\n",
       "</style>\n",
       "<table border=\"1\" class=\"dataframe\">\n",
       "  <thead>\n",
       "    <tr style=\"text-align: right;\">\n",
       "      <th></th>\n",
       "      <th>chain__</th>\n",
       "      <th>iter__</th>\n",
       "      <th>draw__</th>\n",
       "      <th>lp__</th>\n",
       "      <th>accept_stat__</th>\n",
       "      <th>N</th>\n",
       "      <th>y</th>\n",
       "      <th>p</th>\n",
       "    </tr>\n",
       "  </thead>\n",
       "  <tbody>\n",
       "    <tr>\n",
       "      <th>count</th>\n",
       "      <td>1000.0</td>\n",
       "      <td>1000.000000</td>\n",
       "      <td>1000.000000</td>\n",
       "      <td>1000.0</td>\n",
       "      <td>1000.0</td>\n",
       "      <td>1000.0</td>\n",
       "      <td>1000.000000</td>\n",
       "      <td>1000.000000</td>\n",
       "    </tr>\n",
       "    <tr>\n",
       "      <th>mean</th>\n",
       "      <td>1.0</td>\n",
       "      <td>500.500000</td>\n",
       "      <td>500.500000</td>\n",
       "      <td>0.0</td>\n",
       "      <td>0.0</td>\n",
       "      <td>50.0</td>\n",
       "      <td>9.841000</td>\n",
       "      <td>0.197061</td>\n",
       "    </tr>\n",
       "    <tr>\n",
       "      <th>std</th>\n",
       "      <td>0.0</td>\n",
       "      <td>288.819436</td>\n",
       "      <td>288.819436</td>\n",
       "      <td>0.0</td>\n",
       "      <td>0.0</td>\n",
       "      <td>0.0</td>\n",
       "      <td>3.418392</td>\n",
       "      <td>0.039571</td>\n",
       "    </tr>\n",
       "    <tr>\n",
       "      <th>min</th>\n",
       "      <td>1.0</td>\n",
       "      <td>1.000000</td>\n",
       "      <td>1.000000</td>\n",
       "      <td>0.0</td>\n",
       "      <td>0.0</td>\n",
       "      <td>50.0</td>\n",
       "      <td>1.000000</td>\n",
       "      <td>0.078434</td>\n",
       "    </tr>\n",
       "    <tr>\n",
       "      <th>25%</th>\n",
       "      <td>1.0</td>\n",
       "      <td>250.750000</td>\n",
       "      <td>250.750000</td>\n",
       "      <td>0.0</td>\n",
       "      <td>0.0</td>\n",
       "      <td>50.0</td>\n",
       "      <td>7.000000</td>\n",
       "      <td>0.170958</td>\n",
       "    </tr>\n",
       "    <tr>\n",
       "      <th>50%</th>\n",
       "      <td>1.0</td>\n",
       "      <td>500.500000</td>\n",
       "      <td>500.500000</td>\n",
       "      <td>0.0</td>\n",
       "      <td>0.0</td>\n",
       "      <td>50.0</td>\n",
       "      <td>10.000000</td>\n",
       "      <td>0.196842</td>\n",
       "    </tr>\n",
       "    <tr>\n",
       "      <th>75%</th>\n",
       "      <td>1.0</td>\n",
       "      <td>750.250000</td>\n",
       "      <td>750.250000</td>\n",
       "      <td>0.0</td>\n",
       "      <td>0.0</td>\n",
       "      <td>50.0</td>\n",
       "      <td>12.000000</td>\n",
       "      <td>0.222172</td>\n",
       "    </tr>\n",
       "    <tr>\n",
       "      <th>max</th>\n",
       "      <td>1.0</td>\n",
       "      <td>1000.000000</td>\n",
       "      <td>1000.000000</td>\n",
       "      <td>0.0</td>\n",
       "      <td>0.0</td>\n",
       "      <td>50.0</td>\n",
       "      <td>21.000000</td>\n",
       "      <td>0.340819</td>\n",
       "    </tr>\n",
       "  </tbody>\n",
       "</table>\n",
       "</div>"
      ],
      "text/plain": [
       "       chain__       iter__       draw__    lp__  accept_stat__       N  \\\n",
       "count   1000.0  1000.000000  1000.000000  1000.0         1000.0  1000.0   \n",
       "mean       1.0   500.500000   500.500000     0.0            0.0    50.0   \n",
       "std        0.0   288.819436   288.819436     0.0            0.0     0.0   \n",
       "min        1.0     1.000000     1.000000     0.0            0.0    50.0   \n",
       "25%        1.0   250.750000   250.750000     0.0            0.0    50.0   \n",
       "50%        1.0   500.500000   500.500000     0.0            0.0    50.0   \n",
       "75%        1.0   750.250000   750.250000     0.0            0.0    50.0   \n",
       "max        1.0  1000.000000  1000.000000     0.0            0.0    50.0   \n",
       "\n",
       "                 y            p  \n",
       "count  1000.000000  1000.000000  \n",
       "mean      9.841000     0.197061  \n",
       "std       3.418392     0.039571  \n",
       "min       1.000000     0.078434  \n",
       "25%       7.000000     0.170958  \n",
       "50%      10.000000     0.196842  \n",
       "75%      12.000000     0.222172  \n",
       "max      21.000000     0.340819  "
      ]
     },
     "execution_count": 6,
     "metadata": {},
     "output_type": "execute_result"
    }
   ],
   "source": [
    "gen_quant = CmdStanModel(stan_file='code_1.stan')\n",
    "samples = gen_quant.sample(fixed_param=True,\n",
    "                           iter_sampling=1000,\n",
    "                           iter_warmup=0, \n",
    "                           chains = 1,\n",
    "                           adapt_engaged=False)\n",
    "df = samples.draws_pd()\n",
    "df.describe()"
   ]
  },
  {
   "cell_type": "code",
   "execution_count": 7,
   "metadata": {},
   "outputs": [
    {
     "data": {
      "image/png": "[encoded data removed]",
      "text/plain": [
       "<Figure size 700x700 with 1 Axes>"
      ]
     },
     "metadata": {},
     "output_type": "display_data"
    },
    {
     "name": "stdout",
     "output_type": "stream",
     "text": [
      "Mean of ratio: 0.19682000000000005\n"
     ]
    }
   ],
   "source": [
    "plt.figure(figsize=(7, 7))\n",
    "plt.hist(df[\"y\"] ,density=True)\n",
    "plt.gca().set_xlabel(\"Probability of alergic reaction\")\n",
    "plt.show()\n",
    "\n",
    "df[\"y_prob\"] = df[\"y\"] / df[\"N\"]\n",
    "mean = df[\"y_prob\"].mean()\n",
    "print(f\"Mean of ratio: {mean}\")"
   ]
  },
  {
   "cell_type": "markdown",
   "metadata": {},
   "source": [
    "## Modeling posterior and posterior predictive distribution\n",
    "\n",
    "1. Create a Stan model in which:\n",
    "   - ```N``` and ```y``` are appropriately defined in the ```data``` block.\n",
    "   - ```p``` is defined in the parameters block. \n",
    "   - binomial likelihood and prior (selected using prior predictive distribution) are defined in the model block.\n",
    "   - new integer variable ```y_pred``` in the generated quantities block. \n",
    "   - sample ```y_pred``` using values of parameter ```p``` and input variable ```N```\n",
    "2. Generate default number of samples from appropriate method in ```cmdstanpy```.\n",
    "3. Compute ratio of predicted allergic reactions for each sample and create a histogram.\n",
    "4. Compute the expected value and 94% density interval of the predicted ratio, compare it with expected value and 94% density interval of parameter ```p```. Use ```arviz``` package.\n",
    "5. Compute the probability that ratio is lower than the average probability from traditional vaccines (count the number of simulated ratios that are smaller)."
   ]
  },
  {
   "cell_type": "code",
   "execution_count": 8,
   "metadata": {},
   "outputs": [
    {
     "name": "stderr",
     "output_type": "stream",
     "text": [
      "09:20:58 - cmdstanpy - INFO - compiling stan file /workspace/code_2.stan to exe file /workspace/code_2\n",
      "09:21:13 - cmdstanpy - INFO - compiled model executable: /workspace/code_2\n",
      "09:21:13 - cmdstanpy - INFO - CmdStan start processing\n"
     ]
    },
    {
     "data": {
      "application/vnd.jupyter.widget-view+json": {
       "model_id": "11b936ceab864230a2a6f03851ad8afc",
       "version_major": 2,
       "version_minor": 0
      },
      "text/plain": [
       "chain 1 |          | 00:00 Status"
      ]
     },
     "metadata": {},
     "output_type": "display_data"
    },
    {
     "data": {
      "application/vnd.jupyter.widget-view+json": {
       "model_id": "fbc8fcd04438487cae7b08bd55f4321e",
       "version_major": 2,
       "version_minor": 0
      },
      "text/plain": [
       "chain 2 |          | 00:00 Status"
      ]
     },
     "metadata": {},
     "output_type": "display_data"
    },
    {
     "data": {
      "application/vnd.jupyter.widget-view+json": {
       "model_id": "d86b32a183544d288caf14c4f417a1a8",
       "version_major": 2,
       "version_minor": 0
      },
      "text/plain": [
       "chain 3 |          | 00:00 Status"
      ]
     },
     "metadata": {},
     "output_type": "display_data"
    },
    {
     "data": {
      "application/vnd.jupyter.widget-view+json": {
       "model_id": "83dd55c19d7443f993e8e01a1cb40eb9",
       "version_major": 2,
       "version_minor": 0
      },
      "text/plain": [
       "chain 4 |          | 00:00 Status"
      ]
     },
     "metadata": {},
     "output_type": "display_data"
    },
    {
     "name": "stdout",
     "output_type": "stream",
     "text": [
      "                                                                                                                                                                                                                                                                                                                                "
     ]
    },
    {
     "name": "stderr",
     "output_type": "stream",
     "text": [
      "09:21:14 - cmdstanpy - INFO - CmdStan done processing.\n"
     ]
    },
    {
     "name": "stdout",
     "output_type": "stream",
     "text": [
      "\n"
     ]
    },
    {
     "data": {
      "text/html": [
       "<div>\n",
       "<style scoped>\n",
       "    .dataframe tbody tr th:only-of-type {\n",
       "        vertical-align: middle;\n",
       "    }\n",
       "\n",
       "    .dataframe tbody tr th {\n",
       "        vertical-align: top;\n",
       "    }\n",
       "\n",
       "    .dataframe thead th {\n",
       "        text-align: right;\n",
       "    }\n",
       "</style>\n",
       "<table border=\"1\" class=\"dataframe\">\n",
       "  <thead>\n",
       "    <tr style=\"text-align: right;\">\n",
       "      <th></th>\n",
       "      <th>chain__</th>\n",
       "      <th>iter__</th>\n",
       "      <th>draw__</th>\n",
       "      <th>lp__</th>\n",
       "      <th>accept_stat__</th>\n",
       "      <th>stepsize__</th>\n",
       "      <th>treedepth__</th>\n",
       "      <th>n_leapfrog__</th>\n",
       "      <th>divergent__</th>\n",
       "      <th>energy__</th>\n",
       "      <th>p</th>\n",
       "      <th>y_pred</th>\n",
       "    </tr>\n",
       "  </thead>\n",
       "  <tbody>\n",
       "    <tr>\n",
       "      <th>count</th>\n",
       "      <td>4000.000000</td>\n",
       "      <td>4000.000000</td>\n",
       "      <td>4000.000000</td>\n",
       "      <td>4000.000000</td>\n",
       "      <td>4000.000000</td>\n",
       "      <td>4000.000000</td>\n",
       "      <td>4000.000000</td>\n",
       "      <td>4000.000000</td>\n",
       "      <td>4000.0</td>\n",
       "      <td>4000.000000</td>\n",
       "      <td>4000.000000</td>\n",
       "      <td>4000.000000</td>\n",
       "    </tr>\n",
       "    <tr>\n",
       "      <th>mean</th>\n",
       "      <td>2.500000</td>\n",
       "      <td>500.500000</td>\n",
       "      <td>2000.500000</td>\n",
       "      <td>-27.345993</td>\n",
       "      <td>0.929246</td>\n",
       "      <td>0.897964</td>\n",
       "      <td>1.536000</td>\n",
       "      <td>2.834500</td>\n",
       "      <td>0.0</td>\n",
       "      <td>27.828934</td>\n",
       "      <td>0.201287</td>\n",
       "      <td>10.021250</td>\n",
       "    </tr>\n",
       "    <tr>\n",
       "      <th>std</th>\n",
       "      <td>1.118174</td>\n",
       "      <td>288.711081</td>\n",
       "      <td>1154.844867</td>\n",
       "      <td>0.709945</td>\n",
       "      <td>0.121936</td>\n",
       "      <td>0.158481</td>\n",
       "      <td>0.681043</td>\n",
       "      <td>1.763062</td>\n",
       "      <td>0.0</td>\n",
       "      <td>1.008799</td>\n",
       "      <td>0.026149</td>\n",
       "      <td>3.131972</td>\n",
       "    </tr>\n",
       "    <tr>\n",
       "      <th>min</th>\n",
       "      <td>1.000000</td>\n",
       "      <td>1.000000</td>\n",
       "      <td>1.000000</td>\n",
       "      <td>-33.485300</td>\n",
       "      <td>0.004634</td>\n",
       "      <td>0.662316</td>\n",
       "      <td>1.000000</td>\n",
       "      <td>1.000000</td>\n",
       "      <td>0.0</td>\n",
       "      <td>26.847900</td>\n",
       "      <td>0.110473</td>\n",
       "      <td>1.000000</td>\n",
       "    </tr>\n",
       "    <tr>\n",
       "      <th>25%</th>\n",
       "      <td>1.750000</td>\n",
       "      <td>250.750000</td>\n",
       "      <td>1000.750000</td>\n",
       "      <td>-27.517250</td>\n",
       "      <td>0.913156</td>\n",
       "      <td>0.801796</td>\n",
       "      <td>1.000000</td>\n",
       "      <td>1.000000</td>\n",
       "      <td>0.0</td>\n",
       "      <td>27.133250</td>\n",
       "      <td>0.183431</td>\n",
       "      <td>8.000000</td>\n",
       "    </tr>\n",
       "    <tr>\n",
       "      <th>50%</th>\n",
       "      <td>2.500000</td>\n",
       "      <td>500.500000</td>\n",
       "      <td>2000.500000</td>\n",
       "      <td>-27.079900</td>\n",
       "      <td>0.977405</td>\n",
       "      <td>0.929720</td>\n",
       "      <td>1.000000</td>\n",
       "      <td>3.000000</td>\n",
       "      <td>0.0</td>\n",
       "      <td>27.519250</td>\n",
       "      <td>0.201022</td>\n",
       "      <td>10.000000</td>\n",
       "    </tr>\n",
       "    <tr>\n",
       "      <th>75%</th>\n",
       "      <td>3.250000</td>\n",
       "      <td>750.250000</td>\n",
       "      <td>3000.250000</td>\n",
       "      <td>-26.900100</td>\n",
       "      <td>0.999957</td>\n",
       "      <td>1.025888</td>\n",
       "      <td>2.000000</td>\n",
       "      <td>3.000000</td>\n",
       "      <td>0.0</td>\n",
       "      <td>28.176300</td>\n",
       "      <td>0.219200</td>\n",
       "      <td>12.000000</td>\n",
       "    </tr>\n",
       "    <tr>\n",
       "      <th>max</th>\n",
       "      <td>4.000000</td>\n",
       "      <td>1000.000000</td>\n",
       "      <td>4000.000000</td>\n",
       "      <td>-26.847800</td>\n",
       "      <td>1.000000</td>\n",
       "      <td>1.070100</td>\n",
       "      <td>3.000000</td>\n",
       "      <td>7.000000</td>\n",
       "      <td>0.0</td>\n",
       "      <td>34.990500</td>\n",
       "      <td>0.295951</td>\n",
       "      <td>23.000000</td>\n",
       "    </tr>\n",
       "  </tbody>\n",
       "</table>\n",
       "</div>"
      ],
      "text/plain": [
       "           chain__       iter__       draw__         lp__  accept_stat__  \\\n",
       "count  4000.000000  4000.000000  4000.000000  4000.000000    4000.000000   \n",
       "mean      2.500000   500.500000  2000.500000   -27.345993       0.929246   \n",
       "std       1.118174   288.711081  1154.844867     0.709945       0.121936   \n",
       "min       1.000000     1.000000     1.000000   -33.485300       0.004634   \n",
       "25%       1.750000   250.750000  1000.750000   -27.517250       0.913156   \n",
       "50%       2.500000   500.500000  2000.500000   -27.079900       0.977405   \n",
       "75%       3.250000   750.250000  3000.250000   -26.900100       0.999957   \n",
       "max       4.000000  1000.000000  4000.000000   -26.847800       1.000000   \n",
       "\n",
       "        stepsize__  treedepth__  n_leapfrog__  divergent__     energy__  \\\n",
       "count  4000.000000  4000.000000   4000.000000       4000.0  4000.000000   \n",
       "mean      0.897964     1.536000      2.834500          0.0    27.828934   \n",
       "std       0.158481     0.681043      1.763062          0.0     1.008799   \n",
       "min       0.662316     1.000000      1.000000          0.0    26.847900   \n",
       "25%       0.801796     1.000000      1.000000          0.0    27.133250   \n",
       "50%       0.929720     1.000000      3.000000          0.0    27.519250   \n",
       "75%       1.025888     2.000000      3.000000          0.0    28.176300   \n",
       "max       1.070100     3.000000      7.000000          0.0    34.990500   \n",
       "\n",
       "                 p       y_pred  \n",
       "count  4000.000000  4000.000000  \n",
       "mean      0.201287    10.021250  \n",
       "std       0.026149     3.131972  \n",
       "min       0.110473     1.000000  \n",
       "25%       0.183431     8.000000  \n",
       "50%       0.201022    10.000000  \n",
       "75%       0.219200    12.000000  \n",
       "max       0.295951    23.000000  "
      ]
     },
     "execution_count": 8,
     "metadata": {},
     "output_type": "execute_result"
    }
   ],
   "source": [
    "gen_quant2 = CmdStanModel(stan_file='code_2.stan')\n",
    "\n",
    "samples2 = gen_quant2.sample(data={'N':50,'y':10})\n",
    "\n",
    "df2 = samples2.draws_pd()\n",
    "df2.describe()"
   ]
  },
  {
   "cell_type": "code",
   "execution_count": 9,
   "metadata": {},
   "outputs": [
    {
     "data": {
      "image/png": "[encoded data removed]",
      "text/plain": [
       "<Figure size 700x700 with 1 Axes>"
      ]
     },
     "metadata": {},
     "output_type": "display_data"
    },
    {
     "name": "stdout",
     "output_type": "stream",
     "text": [
      "Mean of ratio: 0.20042500000000002\n"
     ]
    }
   ],
   "source": [
    "plt.figure(figsize=(7, 7))\n",
    "plt.hist(df2[\"y_pred\"] ,density=True)\n",
    "plt.gca().set_xlabel(\"Probability of alergic reaction\")\n",
    "plt.show()\n",
    "\n",
    "df2[\"y_prob\"] = df2[\"y_pred\"] / 50\n",
    "mean = df2[\"y_prob\"].mean()\n",
    "print(f\"Mean of ratio: {mean}\")"
   ]
  },
  {
   "cell_type": "code",
   "execution_count": 10,
   "metadata": {},
   "outputs": [
    {
     "name": "stdout",
     "output_type": "stream",
     "text": [
      "Expected ratio = 0.200\n",
      "94% density interval of the predicted ratio =  [0.08 0.3 ]\n",
      "Expected value of parameter p = 0.201\n",
      "94% density interval of the parameter p =  [0.155794 0.251251]\n",
      "Probability that ratio is lower than the average probability = 0.453\n"
     ]
    }
   ],
   "source": [
    "y_pred_ratio = df2[\"y_prob\"].mean()\n",
    "y_pred_density_interval = az.hdi(df2[\"y_prob\"].to_numpy(), credible_interval=0.94)\n",
    "\n",
    "p_ratio = df2[\"p\"].mean()\n",
    "p_density_interval = az.hdi(df2[\"p\"].to_numpy(), credible_interval=0.94)\n",
    "\n",
    "ratio_lower_than_avg = np.sum(df2[\"y_prob\"] < 0.2) / len(df2[\"y_prob\"])\n",
    "\n",
    "print(f\"Expected ratio = {y_pred_ratio:.3f}\")\n",
    "print(\"94% density interval of the predicted ratio = \", y_pred_density_interval)\n",
    "\n",
    "print(f\"Expected value of parameter p = {p_ratio:.3f}\")\n",
    "print(\"94% density interval of the parameter p = \", p_density_interval)\n",
    "\n",
    "print(f\"Probability that ratio is lower than the average probability = {ratio_lower_than_avg:.3f}\")"
   ]
  }
 ],
 "metadata": {
  "kernelspec": {
   "display_name": "Python 3 (ipykernel)",
   "language": "python",
   "name": "python3"
  }
 },
 "nbformat": 4,
 "nbformat_minor": 2
}
